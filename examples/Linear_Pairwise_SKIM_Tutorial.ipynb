{
 "cells": [
  {
   "cell_type": "code",
   "execution_count": 1,
   "metadata": {},
   "outputs": [],
   "source": [
    "import sys\n",
    "sys.path.append('../')\n",
    "sys.path.append('../skimfa')  # TODO: replace once code is a python package\n",
    "\n",
    "import math\n",
    "from skimfa.kernels import PairwiseSKIMFABasisKernel\n",
    "from feature_maps import LinearFeatureMap\n",
    "from fit import *"
   ]
  },
  {
   "cell_type": "code",
   "execution_count": 2,
   "metadata": {},
   "outputs": [
    {
     "data": {
      "text/plain": [
       "<torch._C.Generator at 0x11d5740f0>"
      ]
     },
     "execution_count": 2,
     "metadata": {},
     "output_type": "execute_result"
    }
   ],
   "source": [
    "# Set seed for reproducibility\n",
    "torch.manual_seed(32312)"
   ]
  },
  {
   "cell_type": "markdown",
   "metadata": {},
   "source": [
    "# Generate synthetic data:\n",
    "\n",
    "- p = 500 covariates\n",
    "- N = 500 training datapoints \n",
    "- First 5 covariates have main / interaction effects w/ response; remaining 495 covariates have no influence on the response\n",
    "- Linear main and interaction effects\n",
    "- The signal variance / total variance (i.e., R^2) equals .8"
   ]
  },
  {
   "cell_type": "code",
   "execution_count": 3,
   "metadata": {},
   "outputs": [],
   "source": [
    "### Generate Covariates ###\n",
    "p = 500\n",
    "N_train = 500\n",
    "N_test = 100\n",
    "N_valid = 100\n",
    "\n",
    "X_train = torch.normal(mean=0., std=1., size=(N_train, p))\n",
    "X_test = torch.normal(mean=0., std=1., size=(N_test, p))\n",
    "X_valid = torch.normal(mean=0., std=1., size=(N_valid, p))"
   ]
  },
  {
   "cell_type": "code",
   "execution_count": 4,
   "metadata": {},
   "outputs": [],
   "source": [
    "### Generate Main and Interaction Effects ###\n",
    "K = 5 # First 5 covariates influence response\n",
    "main_effects = dict()\n",
    "interaction_effects = dict()\n",
    "\n",
    "# Generate main effects\n",
    "for cov_ix in range(5):\n",
    "    main_effects[cov_ix] = torch.normal(mean=1., std=1., size=(1, )).item()\n",
    "\n",
    "# Generate 4 pairwise interaction effects between covariates  \n",
    "for cov_ix1, cov_ix2 in [(0, 1), (1, 2), (2, 3), (3, 4)]:\n",
    "    interaction_effects[(cov_ix1, cov_ix2)] = torch.normal(mean=1., std=1., size=(1, )).item()    "
   ]
  },
  {
   "cell_type": "code",
   "execution_count": 5,
   "metadata": {},
   "outputs": [],
   "source": [
    "### Generate Response ###\n",
    "def generate_noiseless_response(X, main_effects, interaction_effects):\n",
    "    Y_signal = torch.zeros(X.shape[0])\n",
    "    for cov_ix, effect in main_effects.items():\n",
    "        Y_signal += effect * X[:, cov_ix]\n",
    "    \n",
    "    for cov_pair, effect in interaction_effects.items():\n",
    "        cov_ix1, cov_ix2 = cov_pair\n",
    "        Y_signal += effect * X[:, cov_ix1] * X[:, cov_ix2]\n",
    "    \n",
    "    return Y_signal\n",
    "\n",
    "Y_train_noiseless = generate_noiseless_response(X_train, main_effects, interaction_effects)\n",
    "Y_test_noiseless = generate_noiseless_response(X_test, main_effects, interaction_effects)\n",
    "Y_valid_noiseless = generate_noiseless_response(X_valid, main_effects, interaction_effects)\n",
    "\n",
    "# Add noise so that R^2 = .8\n",
    "R2 = .8\n",
    "approx_signal_var = Y_train_noiseless.var().item()\n",
    "noise_var = (1 - R2) * approx_signal_var / R2\n",
    "\n",
    "Y_train = Y_train_noiseless + math.sqrt(noise_var)*torch.normal(mean=0., std=1., size=(N_train, ))\n",
    "Y_test = Y_test_noiseless + math.sqrt(noise_var)*torch.normal(mean=0., std=1., size=(N_test, ))\n",
    "Y_valid = Y_valid_noiseless + math.sqrt(noise_var)*torch.normal(mean=0., std=1., size=(N_valid, ))"
   ]
  },
  {
   "cell_type": "markdown",
   "metadata": {},
   "source": [
    "# Fit SKIM-FA Model\n",
    "- Includes all main and pairwise interaction effects (linear)\n",
    "- Performs variable selection\n",
    "- Estimtates effects (ANOVA decomposition)"
   ]
  },
  {
   "cell_type": "code",
   "execution_count": 6,
   "metadata": {},
   "outputs": [],
   "source": [
    "# Step 1: Make feature map \n",
    "# for linear interaction case, this just standardizes the covariates to be 0 mean and unit variances\n",
    "# the means variances and variances are estimates from training data, and then stored for future uses\n",
    "# e.g., to standardize new test data\n",
    "\n",
    "covariate_dims = list(range(p))\n",
    "covariate_types = ['continuous'] * p # irrelevant for now (in the future the selected feature map will depend on the covariate type)\n",
    "linfeatmap = LinearFeatureMap(covariate_dims, covariate_types)\n",
    "linfeatmap.make_feature_map(X_train) \n",
    "\n",
    "# Step 2: Make kernel configuration\n",
    "kernel_config = dict()\n",
    "kernel_config['uncorrected'] = True\n",
    "kernel_config['rescale'] = 1.\n",
    "kernel_config['feat_map'] = linfeatmap\n",
    "kernel_config['cache'] = True\n",
    "kernel_config['Q'] = 2 # all main and pairwise interaction effects\n",
    "\n",
    "# Step 3: Make optimization configuration\n",
    "optimization_config = dict()\n",
    "optimization_config['T'] = 2000 # 2000 total gradient steps\n",
    "optimization_config['M'] = 100 # size of cross-validation random sample\n",
    "optimization_config['param_save_freq'] = 100 # save model weights every 100 iterations\n",
    "optimization_config['valid_report_freq'] = 100 # how often to report MSE on validation set \n",
    "optimization_config['lr'] = .1\n",
    "optimization_config['train_noise'] = False\n",
    "optimization_config['noise_var_init'] = Y_train.var().detach().item()\n",
    "optimization_config['truncScheduler'] = adaptive_cutoff_scheduler"
   ]
  },
  {
   "cell_type": "code",
   "execution_count": 7,
   "metadata": {},
   "outputs": [
    {
     "data": {
      "text/plain": [
       "array([[ 2.49272743e-03, -1.73268019e-04,  4.81579738e-05, ...,\n",
       "         3.53559434e-05, -2.12599787e-05, -2.56288452e-05],\n",
       "       [-1.73268019e-04,  2.31965807e-03,  1.36295995e-04, ...,\n",
       "        -7.69477693e-05, -1.38438000e-04, -8.93018936e-05],\n",
       "       [ 4.81579738e-05,  1.36295995e-04,  2.61839413e-03, ...,\n",
       "        -4.85305395e-06, -1.05111608e-04,  1.83291719e-04],\n",
       "       ...,\n",
       "       [ 3.53559434e-05, -7.69477693e-05, -4.85305395e-06, ...,\n",
       "         2.46330827e-03, -3.96408811e-05, -9.03358800e-05],\n",
       "       [-2.12599787e-05, -1.38438000e-04, -1.05111608e-04, ...,\n",
       "        -3.96408811e-05,  2.40038823e-03,  1.15984093e-04],\n",
       "       [-2.56288452e-05, -8.93018936e-05,  1.83291719e-04, ...,\n",
       "        -9.03358800e-05,  1.15984093e-04,  2.52778102e-03]])"
      ]
     },
     "execution_count": 7,
     "metadata": {},
     "output_type": "execute_result"
    }
   ],
   "source": [
    "# Fit SKIM-FA\n",
    "train_valid_data = dict()\n",
    "train_valid_data['X_train'] = X_train\n",
    "train_valid_data['Y_train'] = Y_train\n",
    "train_valid_data['X_valid'] = X_valid\n",
    "train_valid_data['Y_valid'] = Y_valid\n",
    "\n",
    "# VERY STRANGE error on my computer where need to invert some matrix to not get a segmentation 11 fault error...\n",
    "import numpy as np\n",
    "X_weird = np.random.normal(size=(500, 100))\n",
    "np.linalg.inv(X_weird.T.dot(X_weird))"
   ]
  },
  {
   "cell_type": "code",
   "execution_count": 8,
   "metadata": {
    "scrolled": true
   },
   "outputs": [
    {
     "name": "stderr",
     "output_type": "stream",
     "text": [
      "  0%|          | 7/2000 [00:00<01:06, 29.92it/s]"
     ]
    },
    {
     "name": "stdout",
     "output_type": "stream",
     "text": [
      "Mean-Squared Prediction Error on Validation (Iteration=0): 10.053\n",
      "Number Covariates Selected=500\n"
     ]
    },
    {
     "name": "stderr",
     "output_type": "stream",
     "text": [
      "  5%|▌         | 107/2000 [00:03<00:54, 35.05it/s]"
     ]
    },
    {
     "name": "stdout",
     "output_type": "stream",
     "text": [
      "Mean-Squared Prediction Error on Validation (Iteration=100): 9.957\n",
      "Number Covariates Selected=500\n"
     ]
    },
    {
     "name": "stderr",
     "output_type": "stream",
     "text": [
      " 10%|█         | 207/2000 [00:05<00:51, 34.52it/s]"
     ]
    },
    {
     "name": "stdout",
     "output_type": "stream",
     "text": [
      "Mean-Squared Prediction Error on Validation (Iteration=200): 7.17\n",
      "Number Covariates Selected=500\n"
     ]
    },
    {
     "name": "stderr",
     "output_type": "stream",
     "text": [
      " 15%|█▌        | 307/2000 [00:08<00:48, 35.04it/s]"
     ]
    },
    {
     "name": "stdout",
     "output_type": "stream",
     "text": [
      "Mean-Squared Prediction Error on Validation (Iteration=300): 7.432\n",
      "Number Covariates Selected=500\n"
     ]
    },
    {
     "name": "stderr",
     "output_type": "stream",
     "text": [
      " 20%|██        | 407/2000 [00:11<00:46, 34.01it/s]"
     ]
    },
    {
     "name": "stdout",
     "output_type": "stream",
     "text": [
      "Mean-Squared Prediction Error on Validation (Iteration=400): 7.489\n",
      "Number Covariates Selected=500\n"
     ]
    },
    {
     "name": "stderr",
     "output_type": "stream",
     "text": [
      " 25%|██▌       | 507/2000 [00:14<00:43, 34.53it/s]"
     ]
    },
    {
     "name": "stdout",
     "output_type": "stream",
     "text": [
      "Mean-Squared Prediction Error on Validation (Iteration=500): 7.836\n",
      "Number Covariates Selected=500\n"
     ]
    },
    {
     "name": "stderr",
     "output_type": "stream",
     "text": [
      " 30%|███       | 607/2000 [00:17<00:41, 33.48it/s]"
     ]
    },
    {
     "name": "stdout",
     "output_type": "stream",
     "text": [
      "Mean-Squared Prediction Error on Validation (Iteration=600): 6.041\n",
      "Number Covariates Selected=172\n"
     ]
    },
    {
     "name": "stderr",
     "output_type": "stream",
     "text": [
      " 35%|███▌      | 707/2000 [00:20<00:37, 34.10it/s]"
     ]
    },
    {
     "name": "stdout",
     "output_type": "stream",
     "text": [
      "Mean-Squared Prediction Error on Validation (Iteration=700): 3.357\n",
      "Number Covariates Selected=60\n"
     ]
    },
    {
     "name": "stderr",
     "output_type": "stream",
     "text": [
      " 40%|████      | 807/2000 [00:23<00:35, 33.71it/s]"
     ]
    },
    {
     "name": "stdout",
     "output_type": "stream",
     "text": [
      "Mean-Squared Prediction Error on Validation (Iteration=800): 2.391\n",
      "Number Covariates Selected=7\n"
     ]
    },
    {
     "name": "stderr",
     "output_type": "stream",
     "text": [
      " 45%|████▌     | 907/2000 [00:26<00:32, 33.30it/s]"
     ]
    },
    {
     "name": "stdout",
     "output_type": "stream",
     "text": [
      "Mean-Squared Prediction Error on Validation (Iteration=900): 2.398\n",
      "Number Covariates Selected=7\n"
     ]
    },
    {
     "name": "stderr",
     "output_type": "stream",
     "text": [
      " 50%|█████     | 1007/2000 [00:29<00:29, 33.93it/s]"
     ]
    },
    {
     "name": "stdout",
     "output_type": "stream",
     "text": [
      "Mean-Squared Prediction Error on Validation (Iteration=1000): 2.307\n",
      "Number Covariates Selected=7\n"
     ]
    },
    {
     "name": "stderr",
     "output_type": "stream",
     "text": [
      " 55%|█████▌    | 1107/2000 [00:32<00:26, 33.67it/s]"
     ]
    },
    {
     "name": "stdout",
     "output_type": "stream",
     "text": [
      "Mean-Squared Prediction Error on Validation (Iteration=1100): 2.143\n",
      "Number Covariates Selected=6\n"
     ]
    },
    {
     "name": "stderr",
     "output_type": "stream",
     "text": [
      " 60%|██████    | 1207/2000 [00:35<00:23, 34.18it/s]"
     ]
    },
    {
     "name": "stdout",
     "output_type": "stream",
     "text": [
      "Mean-Squared Prediction Error on Validation (Iteration=1200): 2.308\n",
      "Number Covariates Selected=6\n"
     ]
    },
    {
     "name": "stderr",
     "output_type": "stream",
     "text": [
      " 65%|██████▌   | 1307/2000 [00:38<00:20, 33.77it/s]"
     ]
    },
    {
     "name": "stdout",
     "output_type": "stream",
     "text": [
      "Mean-Squared Prediction Error on Validation (Iteration=1300): 2.26\n",
      "Number Covariates Selected=6\n"
     ]
    },
    {
     "name": "stderr",
     "output_type": "stream",
     "text": [
      " 70%|███████   | 1407/2000 [00:41<00:18, 32.53it/s]"
     ]
    },
    {
     "name": "stdout",
     "output_type": "stream",
     "text": [
      "Mean-Squared Prediction Error on Validation (Iteration=1400): 2.245\n",
      "Number Covariates Selected=6\n"
     ]
    },
    {
     "name": "stderr",
     "output_type": "stream",
     "text": [
      " 75%|███████▌  | 1507/2000 [00:44<00:14, 33.71it/s]"
     ]
    },
    {
     "name": "stdout",
     "output_type": "stream",
     "text": [
      "Mean-Squared Prediction Error on Validation (Iteration=1500): 2.287\n",
      "Number Covariates Selected=6\n"
     ]
    },
    {
     "name": "stderr",
     "output_type": "stream",
     "text": [
      " 80%|████████  | 1607/2000 [00:47<00:11, 33.69it/s]"
     ]
    },
    {
     "name": "stdout",
     "output_type": "stream",
     "text": [
      "Mean-Squared Prediction Error on Validation (Iteration=1600): 2.231\n",
      "Number Covariates Selected=6\n"
     ]
    },
    {
     "name": "stderr",
     "output_type": "stream",
     "text": [
      " 85%|████████▌ | 1707/2000 [00:50<00:08, 33.67it/s]"
     ]
    },
    {
     "name": "stdout",
     "output_type": "stream",
     "text": [
      "Mean-Squared Prediction Error on Validation (Iteration=1700): 2.417\n",
      "Number Covariates Selected=6\n"
     ]
    },
    {
     "name": "stderr",
     "output_type": "stream",
     "text": [
      " 90%|█████████ | 1807/2000 [00:53<00:05, 32.78it/s]"
     ]
    },
    {
     "name": "stdout",
     "output_type": "stream",
     "text": [
      "Mean-Squared Prediction Error on Validation (Iteration=1800): 2.21\n",
      "Number Covariates Selected=6\n"
     ]
    },
    {
     "name": "stderr",
     "output_type": "stream",
     "text": [
      " 95%|█████████▌| 1907/2000 [00:56<00:02, 32.28it/s]"
     ]
    },
    {
     "name": "stdout",
     "output_type": "stream",
     "text": [
      "Mean-Squared Prediction Error on Validation (Iteration=1900): 2.212\n",
      "Number Covariates Selected=6\n"
     ]
    },
    {
     "name": "stderr",
     "output_type": "stream",
     "text": [
      "100%|██████████| 2000/2000 [00:59<00:00, 33.61it/s]"
     ]
    },
    {
     "name": "stdout",
     "output_type": "stream",
     "text": [
      "Mean-Squared Prediction Error on Validation (Iteration=1999): 2.316\n",
      "Number Covariates Selected=6\n"
     ]
    },
    {
     "name": "stderr",
     "output_type": "stream",
     "text": [
      "\n"
     ]
    }
   ],
   "source": [
    "skimfit = SKIMFA()\n",
    "skimfit.fit(train_valid_data, PairwiseSKIMFABasisKernel, kernel_config, optimization_config)"
   ]
  },
  {
   "cell_type": "markdown",
   "metadata": {},
   "source": [
    "# See how well SKIM-FA did in terms of variable selection and estimation"
   ]
  },
  {
   "cell_type": "code",
   "execution_count": 18,
   "metadata": {},
   "outputs": [],
   "source": [
    "# Variable selection\n",
    "selected_covs = set([cov_ix.item() for cov_ix in skimfit.get_selected_covariates()])\n",
    "correct_covs = set(range(K))\n",
    "\n",
    "# \n",
    "selected_covs & correct_covs"
   ]
  },
  {
   "cell_type": "code",
   "execution_count": null,
   "metadata": {},
   "outputs": [],
   "source": []
  }
 ],
 "metadata": {
  "kernelspec": {
   "display_name": "Python 3",
   "language": "python",
   "name": "python3"
  },
  "language_info": {
   "codemirror_mode": {
    "name": "ipython",
    "version": 3
   },
   "file_extension": ".py",
   "mimetype": "text/x-python",
   "name": "python",
   "nbconvert_exporter": "python",
   "pygments_lexer": "ipython3",
   "version": "3.6.10"
  }
 },
 "nbformat": 4,
 "nbformat_minor": 4
}
