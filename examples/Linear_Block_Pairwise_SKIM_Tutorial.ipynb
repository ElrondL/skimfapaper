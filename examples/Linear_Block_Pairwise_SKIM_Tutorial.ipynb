{
 "cells": [
  {
   "cell_type": "code",
   "execution_count": 1,
   "metadata": {},
   "outputs": [],
   "source": [
    "import sys\n",
    "sys.path.append('../')\n",
    "sys.path.append('../skimfa')  # TODO: replace once code is a python package\n",
    "\n",
    "import math\n",
    "from skimfa.kernels import BlockPairwiseSKIMFABasisKernel\n",
    "from feature_maps import LinearFeatureMap\n",
    "from fit import *"
   ]
  },
  {
   "cell_type": "code",
   "execution_count": 2,
   "metadata": {},
   "outputs": [
    {
     "data": {
      "text/plain": [
       "<torch._C.Generator at 0x12bed3cf0>"
      ]
     },
     "execution_count": 2,
     "metadata": {},
     "output_type": "execute_result"
    }
   ],
   "source": [
    "# Set seed for reproducibility\n",
    "torch.manual_seed(32312)"
   ]
  },
  {
   "cell_type": "markdown",
   "metadata": {},
   "source": [
    "# Generate synthetic data:\n",
    "\n",
    "- p = 500 covariates\n",
    "- N = 500 training datapoints \n",
    "- First 5 covariates have main / interaction effects w/ response; remaining 495 covariates have no influence on the response\n",
    "- Linear main and interaction effects\n",
    "- The signal variance / total variance (i.e., R^2) equals .8"
   ]
  },
  {
   "cell_type": "code",
   "execution_count": 3,
   "metadata": {},
   "outputs": [],
   "source": [
    "### Generate Covariates ###\n",
    "p = 500\n",
    "N_train = 500\n",
    "N_test = 100\n",
    "N_valid = 100\n",
    "\n",
    "X_train = torch.normal(mean=0., std=1., size=(N_train, p))\n",
    "X_test = torch.normal(mean=0., std=1., size=(N_test, p))\n",
    "X_valid = torch.normal(mean=0., std=1., size=(N_valid, p))"
   ]
  },
  {
   "cell_type": "code",
   "execution_count": 4,
   "metadata": {},
   "outputs": [],
   "source": [
    "### Generate Main and Interaction Effects ###\n",
    "K = 5 # First 5 covariates influence response\n",
    "main_effects = dict()\n",
    "interaction_effects = dict()\n",
    "\n",
    "# Generate main effects\n",
    "for cov_ix in range(5):\n",
    "    main_effects[cov_ix] = torch.normal(mean=1., std=1., size=(1, )).item()\n",
    "\n",
    "# Generate 4 pairwise interaction effects between covariates  \n",
    "interaction_pairs = [(0, 1), (1, 2), (2, 3), (3, 4)]\n",
    "for cov_ix1, cov_ix2 in interaction_pairs:\n",
    "    interaction_effects[(cov_ix1, cov_ix2)] = torch.normal(mean=1., std=1., size=(1, )).item()    "
   ]
  },
  {
   "cell_type": "code",
   "execution_count": 5,
   "metadata": {},
   "outputs": [],
   "source": [
    "### Generate Response ###\n",
    "def generate_noiseless_response(X, main_effects, interaction_effects):\n",
    "    Y_signal = torch.zeros(X.shape[0])\n",
    "    for cov_ix, effect in main_effects.items():\n",
    "        Y_signal += effect * X[:, cov_ix]\n",
    "    \n",
    "    for cov_pair, effect in interaction_effects.items():\n",
    "        cov_ix1, cov_ix2 = cov_pair\n",
    "        Y_signal += effect * X[:, cov_ix1] * X[:, cov_ix2]\n",
    "    \n",
    "    return Y_signal\n",
    "\n",
    "Y_train_noiseless = generate_noiseless_response(X_train, main_effects, interaction_effects)\n",
    "Y_test_noiseless = generate_noiseless_response(X_test, main_effects, interaction_effects)\n",
    "Y_valid_noiseless = generate_noiseless_response(X_valid, main_effects, interaction_effects)\n",
    "\n",
    "# Add noise so that R^2 = .8\n",
    "R2 = .8\n",
    "approx_signal_var = Y_train_noiseless.var().item()\n",
    "noise_var = (1 - R2) * approx_signal_var / R2\n",
    "\n",
    "Y_train = Y_train_noiseless + math.sqrt(noise_var)*torch.normal(mean=0., std=1., size=(N_train, ))\n",
    "Y_test = Y_test_noiseless + math.sqrt(noise_var)*torch.normal(mean=0., std=1., size=(N_test, ))\n",
    "Y_valid = Y_valid_noiseless + math.sqrt(noise_var)*torch.normal(mean=0., std=1., size=(N_valid, ))"
   ]
  },
  {
   "cell_type": "markdown",
   "metadata": {},
   "source": [
    "# Fit SKIM-FA Model\n",
    "- Includes all main and pairwise interaction effects (linear)\n",
    "- Performs variable selection\n",
    "- Estimtates effects (ANOVA decomposition)"
   ]
  },
  {
   "cell_type": "code",
   "execution_count": 6,
   "metadata": {},
   "outputs": [],
   "source": [
    "# Step 1: Make feature map \n",
    "# for linear interaction case, this just standardizes the covariates to be 0 mean and unit variances\n",
    "# the means variances and variances are estimates from training data, and then stored for future uses\n",
    "# e.g., to standardize new test data\n",
    "\n",
    "covariate_dims = list(range(p))\n",
    "covariate_types = ['continuous'] * p # irrelevant for now (in the future the selected feature map will depend on the covariate type)\n",
    "linfeatmap = LinearFeatureMap(covariate_dims, covariate_types)\n",
    "linfeatmap.make_feature_map(X_train) \n",
    "\n",
    "# Step 2: Make kernel configuration\n",
    "kernel_config = dict()\n",
    "kernel_config['uncorrected'] = True\n",
    "kernel_config['rescale'] = 1.\n",
    "kernel_config['feat_map'] = linfeatmap\n",
    "kernel_config['cache'] = True\n",
    "kernel_config['Q'] = 2 # include up to pairwise interaction effects\n",
    "\n",
    "kernel_config['pair_indcs'] = torch.arange(p)[:(p-10)] # Have all main and pairwise interaction effects for first p - 10 covariates\n",
    "kernel_config['main_indcs'] = torch.arange(p)[(p-10):] # Only have main effects for last 10 covariates\n",
    "\n",
    "\n",
    "# Step 3: Make optimization configuration\n",
    "optimization_config = dict()\n",
    "optimization_config['T'] = 2000 # 2000 total gradient steps\n",
    "optimization_config['M'] = 100 # size of cross-validation random sample\n",
    "optimization_config['param_save_freq'] = 100 # save model weights every 100 iterations\n",
    "optimization_config['valid_report_freq'] = 100 # how often to report MSE on validation set \n",
    "optimization_config['lr'] = .1\n",
    "optimization_config['train_noise'] = False\n",
    "optimization_config['noise_var_init'] = Y_train.var().detach().item()\n",
    "optimization_config['truncScheduler'] = adaptive_cutoff_scheduler"
   ]
  },
  {
   "cell_type": "code",
   "execution_count": 7,
   "metadata": {
    "scrolled": true
   },
   "outputs": [
    {
     "data": {
      "text/plain": [
       "array([[ 2.47917909e-03, -9.89167493e-05, -2.36180769e-04, ...,\n",
       "         1.78580883e-04, -5.60477038e-05,  4.67199751e-05],\n",
       "       [-9.89167493e-05,  2.50588907e-03, -1.69032628e-05, ...,\n",
       "         2.23976045e-04,  2.01503322e-05, -8.96354784e-05],\n",
       "       [-2.36180769e-04, -1.69032628e-05,  2.58347688e-03, ...,\n",
       "        -1.56860674e-04, -2.09240085e-05, -1.21383942e-04],\n",
       "       ...,\n",
       "       [ 1.78580883e-04,  2.23976045e-04, -1.56860674e-04, ...,\n",
       "         2.37904044e-03,  2.71590032e-05, -6.73756756e-05],\n",
       "       [-5.60477038e-05,  2.01503322e-05, -2.09240085e-05, ...,\n",
       "         2.71590032e-05,  2.20055923e-03, -1.58906512e-07],\n",
       "       [ 4.67199751e-05, -8.96354784e-05, -1.21383942e-04, ...,\n",
       "        -6.73756756e-05, -1.58906512e-07,  2.24975443e-03]])"
      ]
     },
     "execution_count": 7,
     "metadata": {},
     "output_type": "execute_result"
    }
   ],
   "source": [
    "# Fit SKIM-FA\n",
    "train_valid_data = dict()\n",
    "train_valid_data['X_train'] = X_train\n",
    "train_valid_data['Y_train'] = Y_train\n",
    "train_valid_data['X_valid'] = X_valid\n",
    "train_valid_data['Y_valid'] = Y_valid\n",
    "\n",
    "# VERY STRANGE error on my computer where I need to invert a matrix to not get a segmentation 11 fault error...\n",
    "import numpy as np\n",
    "X_weird = np.random.normal(size=(500, 100))\n",
    "np.linalg.inv(X_weird.T.dot(X_weird))"
   ]
  },
  {
   "cell_type": "code",
   "execution_count": 8,
   "metadata": {
    "scrolled": true
   },
   "outputs": [
    {
     "name": "stderr",
     "output_type": "stream",
     "text": [
      "  0%|          | 5/2000 [00:00<01:39, 20.02it/s]"
     ]
    },
    {
     "name": "stdout",
     "output_type": "stream",
     "text": [
      "Mean-Squared Prediction Error on Validation (Iteration=0): 10.061\n",
      "Number Covariates Selected=500\n"
     ]
    },
    {
     "name": "stderr",
     "output_type": "stream",
     "text": [
      "  5%|▌         | 104/2000 [00:04<01:14, 25.53it/s]"
     ]
    },
    {
     "name": "stdout",
     "output_type": "stream",
     "text": [
      "Mean-Squared Prediction Error on Validation (Iteration=100): 10.229\n",
      "Number Covariates Selected=500\n"
     ]
    },
    {
     "name": "stderr",
     "output_type": "stream",
     "text": [
      " 10%|█         | 206/2000 [00:08<01:10, 25.31it/s]"
     ]
    },
    {
     "name": "stdout",
     "output_type": "stream",
     "text": [
      "Mean-Squared Prediction Error on Validation (Iteration=200): 10.196\n",
      "Number Covariates Selected=500\n"
     ]
    },
    {
     "name": "stderr",
     "output_type": "stream",
     "text": [
      " 15%|█▌        | 305/2000 [00:12<01:09, 24.46it/s]"
     ]
    },
    {
     "name": "stdout",
     "output_type": "stream",
     "text": [
      "Mean-Squared Prediction Error on Validation (Iteration=300): 10.091\n",
      "Number Covariates Selected=500\n"
     ]
    },
    {
     "name": "stderr",
     "output_type": "stream",
     "text": [
      " 20%|██        | 404/2000 [00:16<01:04, 24.58it/s]"
     ]
    },
    {
     "name": "stdout",
     "output_type": "stream",
     "text": [
      "Mean-Squared Prediction Error on Validation (Iteration=400): 9.311\n",
      "Number Covariates Selected=500\n"
     ]
    },
    {
     "name": "stderr",
     "output_type": "stream",
     "text": [
      " 25%|██▌       | 503/2000 [00:20<01:02, 23.77it/s]"
     ]
    },
    {
     "name": "stdout",
     "output_type": "stream",
     "text": [
      "Mean-Squared Prediction Error on Validation (Iteration=500): 6.0\n",
      "Number Covariates Selected=500\n"
     ]
    },
    {
     "name": "stderr",
     "output_type": "stream",
     "text": [
      " 30%|███       | 605/2000 [00:24<00:59, 23.43it/s]"
     ]
    },
    {
     "name": "stdout",
     "output_type": "stream",
     "text": [
      "Mean-Squared Prediction Error on Validation (Iteration=600): 4.093\n",
      "Number Covariates Selected=138\n"
     ]
    },
    {
     "name": "stderr",
     "output_type": "stream",
     "text": [
      " 35%|███▌      | 704/2000 [00:28<00:55, 23.38it/s]"
     ]
    },
    {
     "name": "stdout",
     "output_type": "stream",
     "text": [
      "Mean-Squared Prediction Error on Validation (Iteration=700): 2.479\n",
      "Number Covariates Selected=25\n"
     ]
    },
    {
     "name": "stderr",
     "output_type": "stream",
     "text": [
      " 40%|████      | 803/2000 [00:32<00:51, 23.22it/s]"
     ]
    },
    {
     "name": "stdout",
     "output_type": "stream",
     "text": [
      "Mean-Squared Prediction Error on Validation (Iteration=800): 2.337\n",
      "Number Covariates Selected=10\n"
     ]
    },
    {
     "name": "stderr",
     "output_type": "stream",
     "text": [
      " 45%|████▌     | 905/2000 [00:37<00:47, 22.86it/s]"
     ]
    },
    {
     "name": "stdout",
     "output_type": "stream",
     "text": [
      "Mean-Squared Prediction Error on Validation (Iteration=900): 2.26\n",
      "Number Covariates Selected=10\n"
     ]
    },
    {
     "name": "stderr",
     "output_type": "stream",
     "text": [
      " 50%|█████     | 1004/2000 [00:41<00:42, 23.17it/s]"
     ]
    },
    {
     "name": "stdout",
     "output_type": "stream",
     "text": [
      "Mean-Squared Prediction Error on Validation (Iteration=1000): 2.263\n",
      "Number Covariates Selected=10\n"
     ]
    },
    {
     "name": "stderr",
     "output_type": "stream",
     "text": [
      " 55%|█████▌    | 1103/2000 [00:45<00:39, 22.76it/s]"
     ]
    },
    {
     "name": "stdout",
     "output_type": "stream",
     "text": [
      "Mean-Squared Prediction Error on Validation (Iteration=1100): 2.199\n",
      "Number Covariates Selected=10\n"
     ]
    },
    {
     "name": "stderr",
     "output_type": "stream",
     "text": [
      " 60%|██████    | 1205/2000 [00:50<00:34, 22.76it/s]"
     ]
    },
    {
     "name": "stdout",
     "output_type": "stream",
     "text": [
      "Mean-Squared Prediction Error on Validation (Iteration=1200): 2.38\n",
      "Number Covariates Selected=9\n"
     ]
    },
    {
     "name": "stderr",
     "output_type": "stream",
     "text": [
      " 65%|██████▌   | 1304/2000 [00:54<00:30, 22.57it/s]"
     ]
    },
    {
     "name": "stdout",
     "output_type": "stream",
     "text": [
      "Mean-Squared Prediction Error on Validation (Iteration=1300): 2.284\n",
      "Number Covariates Selected=9\n"
     ]
    },
    {
     "name": "stderr",
     "output_type": "stream",
     "text": [
      " 70%|███████   | 1403/2000 [00:58<00:26, 22.66it/s]"
     ]
    },
    {
     "name": "stdout",
     "output_type": "stream",
     "text": [
      "Mean-Squared Prediction Error on Validation (Iteration=1400): 2.183\n",
      "Number Covariates Selected=9\n"
     ]
    },
    {
     "name": "stderr",
     "output_type": "stream",
     "text": [
      " 75%|███████▌  | 1505/2000 [01:03<00:22, 21.67it/s]"
     ]
    },
    {
     "name": "stdout",
     "output_type": "stream",
     "text": [
      "Mean-Squared Prediction Error on Validation (Iteration=1500): 2.253\n",
      "Number Covariates Selected=8\n"
     ]
    },
    {
     "name": "stderr",
     "output_type": "stream",
     "text": [
      " 80%|████████  | 1604/2000 [01:07<00:17, 22.40it/s]"
     ]
    },
    {
     "name": "stdout",
     "output_type": "stream",
     "text": [
      "Mean-Squared Prediction Error on Validation (Iteration=1600): 2.208\n",
      "Number Covariates Selected=7\n"
     ]
    },
    {
     "name": "stderr",
     "output_type": "stream",
     "text": [
      " 85%|████████▌ | 1703/2000 [01:12<00:13, 22.26it/s]"
     ]
    },
    {
     "name": "stdout",
     "output_type": "stream",
     "text": [
      "Mean-Squared Prediction Error on Validation (Iteration=1700): 2.388\n",
      "Number Covariates Selected=7\n"
     ]
    },
    {
     "name": "stderr",
     "output_type": "stream",
     "text": [
      " 90%|█████████ | 1805/2000 [01:16<00:09, 21.29it/s]"
     ]
    },
    {
     "name": "stdout",
     "output_type": "stream",
     "text": [
      "Mean-Squared Prediction Error on Validation (Iteration=1800): 2.141\n",
      "Number Covariates Selected=7\n"
     ]
    },
    {
     "name": "stderr",
     "output_type": "stream",
     "text": [
      " 95%|█████████▌| 1904/2000 [01:21<00:04, 21.79it/s]"
     ]
    },
    {
     "name": "stdout",
     "output_type": "stream",
     "text": [
      "Mean-Squared Prediction Error on Validation (Iteration=1900): 2.153\n",
      "Number Covariates Selected=7\n"
     ]
    },
    {
     "name": "stderr",
     "output_type": "stream",
     "text": [
      "100%|██████████| 2000/2000 [01:25<00:00, 23.36it/s]"
     ]
    },
    {
     "name": "stdout",
     "output_type": "stream",
     "text": [
      "Mean-Squared Prediction Error on Validation (Iteration=1999): 2.254\n",
      "Number Covariates Selected=7\n"
     ]
    },
    {
     "name": "stderr",
     "output_type": "stream",
     "text": [
      "\n"
     ]
    }
   ],
   "source": [
    "skimfit = SKIMFA()\n",
    "skimfit.fit(train_valid_data, BlockPairwiseSKIMFABasisKernel, kernel_config, optimization_config)"
   ]
  },
  {
   "cell_type": "markdown",
   "metadata": {},
   "source": [
    "# See how well SKIM-FA does in terms of variable selection, estimation, and prediction"
   ]
  },
  {
   "cell_type": "code",
   "execution_count": 11,
   "metadata": {},
   "outputs": [
    {
     "name": "stdout",
     "output_type": "stream",
     "text": [
      "Correct Selected: {0, 1, 2, 3, 4}\n",
      "Correct Not Selected: set()\n",
      "Wrong Selected: {362, 171}\n"
     ]
    }
   ],
   "source": [
    "# Variable selection\n",
    "selected_covs = set([cov_ix.item() for cov_ix in skimfit.get_selected_covariates()])\n",
    "correct_covs = set(range(K))\n",
    "\n",
    "print(f'Correct Selected: {selected_covs & correct_covs}')\n",
    "print(f'Correct Not Selected: {correct_covs - selected_covs}')\n",
    "print(f'Wrong Selected: {selected_covs - correct_covs}')"
   ]
  },
  {
   "cell_type": "code",
   "execution_count": 12,
   "metadata": {},
   "outputs": [
    {
     "name": "stdout",
     "output_type": "stream",
     "text": [
      "Mean-Squared Prediction Error on Test: 2.65\n",
      "True Noise Variance: 2.43\n"
     ]
    }
   ],
   "source": [
    "# Prediction\n",
    "Y_test_pred = skimfit.predict(X_test)\n",
    "print(f'Mean-Squared Prediction Error on Test: {round(torch.mean((Y_test - Y_test_pred) ** 2).item(), 2)}')\n",
    "print(f'True Noise Variance: {round(noise_var, 2)}')"
   ]
  },
  {
   "cell_type": "code",
   "execution_count": 15,
   "metadata": {},
   "outputs": [
    {
     "name": "stdout",
     "output_type": "stream",
     "text": [
      "Main Effect 0 (Estimate, Truth): (0.77, 0.68)\n",
      "Main Effect 1 (Estimate, Truth): (1.98, 1.91)\n",
      "Main Effect 2 (Estimate, Truth): (0.22, 0.09)\n",
      "Main Effect 3 (Estimate, Truth): (-1.1, -1.09)\n",
      "Main Effect 4 (Estimate, Truth): (0.56, 0.53)\n",
      "\n",
      "\n",
      "Interaction Effect (0, 1) (Estimate, Truth): (1.45, 1.37)\n",
      "Interaction Effect (1, 2) (Estimate, Truth): (0.71, 0.73)\n",
      "Interaction Effect (2, 3) (Estimate, Truth): (1.05, 1.01)\n",
      "Interaction Effect (3, 4) (Estimate, Truth): (1.13, 1.19)\n"
     ]
    }
   ],
   "source": [
    "# Estimation - look at first main effect as an example\n",
    "\n",
    "# Estimate vs. Truth: Main Effects\n",
    "for i in range(5):\n",
    "    print(f'Main Effect {i} (Estimate, Truth): ({round(get_linear_iteraction_effect(skimfit, [i]), 2)}, {round(main_effects[i], 2)})')\n",
    "\n",
    "print('\\n')\n",
    "    \n",
    "# Estimate vs. Truth: Pairwise Effects\n",
    "for cov_ix1, cov_ix2 in interaction_pairs:\n",
    "    print(f'Interaction Effect {(cov_ix1, cov_ix2)} (Estimate, Truth): ({round(get_linear_iteraction_effect(skimfit, [cov_ix1, cov_ix2]), 2)}, {round(interaction_effects[(cov_ix1, cov_ix2)], 2)})')"
   ]
  },
  {
   "cell_type": "code",
   "execution_count": null,
   "metadata": {},
   "outputs": [],
   "source": []
  }
 ],
 "metadata": {
  "kernelspec": {
   "display_name": "Python 3",
   "language": "python",
   "name": "python3"
  },
  "language_info": {
   "codemirror_mode": {
    "name": "ipython",
    "version": 3
   },
   "file_extension": ".py",
   "mimetype": "text/x-python",
   "name": "python",
   "nbconvert_exporter": "python",
   "pygments_lexer": "ipython3",
   "version": "3.6.10"
  }
 },
 "nbformat": 4,
 "nbformat_minor": 4
}
